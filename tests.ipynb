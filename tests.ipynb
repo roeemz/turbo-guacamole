{
 "cells": [
  {
   "cell_type": "code",
   "execution_count": 12,
   "metadata": {
    "collapsed": true,
    "pycharm": {
     "name": "#%%\n"
    }
   },
   "outputs": [
    {
     "ename": "ModuleNotFoundError",
     "evalue": "No module named '_tkinter'",
     "output_type": "error",
     "traceback": [
      "\u001B[0;31m---------------------------------------------------------------------------\u001B[0m",
      "\u001B[0;31mModuleNotFoundError\u001B[0m                       Traceback (most recent call last)",
      "Cell \u001B[0;32mIn [12], line 15\u001B[0m\n\u001B[1;32m     13\u001B[0m \u001B[38;5;28;01mimport\u001B[39;00m \u001B[38;5;21;01mmatplotlib\u001B[39;00m\n\u001B[1;32m     14\u001B[0m \u001B[38;5;28;01mimport\u001B[39;00m \u001B[38;5;21;01mmatplotlib\u001B[39;00m\u001B[38;5;21;01m.\u001B[39;00m\u001B[38;5;21;01mpyplot\u001B[39;00m \u001B[38;5;28;01mas\u001B[39;00m \u001B[38;5;21;01mplt\u001B[39;00m\n\u001B[0;32m---> 15\u001B[0m \u001B[43mmatplotlib\u001B[49m\u001B[38;5;241;43m.\u001B[39;49m\u001B[43muse\u001B[49m\u001B[43m(\u001B[49m\u001B[38;5;124;43m'\u001B[39;49m\u001B[38;5;124;43mTkAgg\u001B[39;49m\u001B[38;5;124;43m'\u001B[39;49m\u001B[43m)\u001B[49m\n\u001B[1;32m     16\u001B[0m \u001B[38;5;28;01mfrom\u001B[39;00m \u001B[38;5;21;01mmatplotlib\u001B[39;00m\u001B[38;5;21;01m.\u001B[39;00m\u001B[38;5;21;01mcolors\u001B[39;00m \u001B[38;5;28;01mimport\u001B[39;00m ListedColormap, BoundaryNorm\n",
      "File \u001B[0;32m~/PycharmProjects/turbo-guacamole/venv/lib/python3.10/site-packages/matplotlib/__init__.py:1156\u001B[0m, in \u001B[0;36muse\u001B[0;34m(backend, force)\u001B[0m\n\u001B[1;32m   1151\u001B[0m \u001B[38;5;28;01mif\u001B[39;00m plt \u001B[38;5;129;01mis\u001B[39;00m \u001B[38;5;129;01mnot\u001B[39;00m \u001B[38;5;28;01mNone\u001B[39;00m:\n\u001B[1;32m   1152\u001B[0m     \u001B[38;5;28;01mtry\u001B[39;00m:\n\u001B[1;32m   1153\u001B[0m         \u001B[38;5;66;03m# we need this import check here to re-raise if the\u001B[39;00m\n\u001B[1;32m   1154\u001B[0m         \u001B[38;5;66;03m# user does not have the libraries to support their\u001B[39;00m\n\u001B[1;32m   1155\u001B[0m         \u001B[38;5;66;03m# chosen backend installed.\u001B[39;00m\n\u001B[0;32m-> 1156\u001B[0m         \u001B[43mplt\u001B[49m\u001B[38;5;241;43m.\u001B[39;49m\u001B[43mswitch_backend\u001B[49m\u001B[43m(\u001B[49m\u001B[43mname\u001B[49m\u001B[43m)\u001B[49m\n\u001B[1;32m   1157\u001B[0m     \u001B[38;5;28;01mexcept\u001B[39;00m \u001B[38;5;167;01mImportError\u001B[39;00m:\n\u001B[1;32m   1158\u001B[0m         \u001B[38;5;28;01mif\u001B[39;00m force:\n",
      "File \u001B[0;32m~/PycharmProjects/turbo-guacamole/venv/lib/python3.10/site-packages/matplotlib/pyplot.py:264\u001B[0m, in \u001B[0;36mswitch_backend\u001B[0;34m(newbackend)\u001B[0m\n\u001B[1;32m    261\u001B[0m         rcParamsOrig[\u001B[38;5;124m\"\u001B[39m\u001B[38;5;124mbackend\u001B[39m\u001B[38;5;124m\"\u001B[39m] \u001B[38;5;241m=\u001B[39m \u001B[38;5;124m\"\u001B[39m\u001B[38;5;124magg\u001B[39m\u001B[38;5;124m\"\u001B[39m\n\u001B[1;32m    262\u001B[0m         \u001B[38;5;28;01mreturn\u001B[39;00m\n\u001B[0;32m--> 264\u001B[0m backend_mod \u001B[38;5;241m=\u001B[39m \u001B[43mimportlib\u001B[49m\u001B[38;5;241;43m.\u001B[39;49m\u001B[43mimport_module\u001B[49m\u001B[43m(\u001B[49m\n\u001B[1;32m    265\u001B[0m \u001B[43m    \u001B[49m\u001B[43mcbook\u001B[49m\u001B[38;5;241;43m.\u001B[39;49m\u001B[43m_backend_module_name\u001B[49m\u001B[43m(\u001B[49m\u001B[43mnewbackend\u001B[49m\u001B[43m)\u001B[49m\u001B[43m)\u001B[49m\n\u001B[1;32m    266\u001B[0m canvas_class \u001B[38;5;241m=\u001B[39m backend_mod\u001B[38;5;241m.\u001B[39mFigureCanvas\n\u001B[1;32m    268\u001B[0m required_framework \u001B[38;5;241m=\u001B[39m _get_required_interactive_framework(backend_mod)\n",
      "File \u001B[0;32m/usr/local/Cellar/python@3.10/3.10.6_2/Frameworks/Python.framework/Versions/3.10/lib/python3.10/importlib/__init__.py:126\u001B[0m, in \u001B[0;36mimport_module\u001B[0;34m(name, package)\u001B[0m\n\u001B[1;32m    124\u001B[0m             \u001B[38;5;28;01mbreak\u001B[39;00m\n\u001B[1;32m    125\u001B[0m         level \u001B[38;5;241m+\u001B[39m\u001B[38;5;241m=\u001B[39m \u001B[38;5;241m1\u001B[39m\n\u001B[0;32m--> 126\u001B[0m \u001B[38;5;28;01mreturn\u001B[39;00m \u001B[43m_bootstrap\u001B[49m\u001B[38;5;241;43m.\u001B[39;49m\u001B[43m_gcd_import\u001B[49m\u001B[43m(\u001B[49m\u001B[43mname\u001B[49m\u001B[43m[\u001B[49m\u001B[43mlevel\u001B[49m\u001B[43m:\u001B[49m\u001B[43m]\u001B[49m\u001B[43m,\u001B[49m\u001B[43m \u001B[49m\u001B[43mpackage\u001B[49m\u001B[43m,\u001B[49m\u001B[43m \u001B[49m\u001B[43mlevel\u001B[49m\u001B[43m)\u001B[49m\n",
      "File \u001B[0;32m<frozen importlib._bootstrap>:1050\u001B[0m, in \u001B[0;36m_gcd_import\u001B[0;34m(name, package, level)\u001B[0m\n",
      "File \u001B[0;32m<frozen importlib._bootstrap>:1027\u001B[0m, in \u001B[0;36m_find_and_load\u001B[0;34m(name, import_)\u001B[0m\n",
      "File \u001B[0;32m<frozen importlib._bootstrap>:1006\u001B[0m, in \u001B[0;36m_find_and_load_unlocked\u001B[0;34m(name, import_)\u001B[0m\n",
      "File \u001B[0;32m<frozen importlib._bootstrap>:688\u001B[0m, in \u001B[0;36m_load_unlocked\u001B[0;34m(spec)\u001B[0m\n",
      "File \u001B[0;32m<frozen importlib._bootstrap_external>:883\u001B[0m, in \u001B[0;36mexec_module\u001B[0;34m(self, module)\u001B[0m\n",
      "File \u001B[0;32m<frozen importlib._bootstrap>:241\u001B[0m, in \u001B[0;36m_call_with_frames_removed\u001B[0;34m(f, *args, **kwds)\u001B[0m\n",
      "File \u001B[0;32m~/PycharmProjects/turbo-guacamole/venv/lib/python3.10/site-packages/matplotlib/backends/backend_tkagg.py:1\u001B[0m\n\u001B[0;32m----> 1\u001B[0m \u001B[38;5;28;01mfrom\u001B[39;00m \u001B[38;5;21;01m.\u001B[39;00m \u001B[38;5;28;01mimport\u001B[39;00m _backend_tk\n\u001B[1;32m      2\u001B[0m \u001B[38;5;28;01mfrom\u001B[39;00m \u001B[38;5;21;01m.\u001B[39;00m\u001B[38;5;21;01mbackend_agg\u001B[39;00m \u001B[38;5;28;01mimport\u001B[39;00m FigureCanvasAgg\n\u001B[1;32m      3\u001B[0m \u001B[38;5;28;01mfrom\u001B[39;00m \u001B[38;5;21;01m.\u001B[39;00m\u001B[38;5;21;01m_backend_tk\u001B[39;00m \u001B[38;5;28;01mimport\u001B[39;00m _BackendTk, FigureCanvasTk\n",
      "File \u001B[0;32m~/PycharmProjects/turbo-guacamole/venv/lib/python3.10/site-packages/matplotlib/backends/_backend_tk.py:7\u001B[0m\n\u001B[1;32m      5\u001B[0m \u001B[38;5;28;01mimport\u001B[39;00m \u001B[38;5;21;01mos\u001B[39;00m\u001B[38;5;21;01m.\u001B[39;00m\u001B[38;5;21;01mpath\u001B[39;00m\n\u001B[1;32m      6\u001B[0m \u001B[38;5;28;01mimport\u001B[39;00m \u001B[38;5;21;01msys\u001B[39;00m\n\u001B[0;32m----> 7\u001B[0m \u001B[38;5;28;01mimport\u001B[39;00m \u001B[38;5;21;01mtkinter\u001B[39;00m \u001B[38;5;28;01mas\u001B[39;00m \u001B[38;5;21;01mtk\u001B[39;00m\n\u001B[1;32m      8\u001B[0m \u001B[38;5;28;01mimport\u001B[39;00m \u001B[38;5;21;01mtkinter\u001B[39;00m\u001B[38;5;21;01m.\u001B[39;00m\u001B[38;5;21;01mfiledialog\u001B[39;00m\n\u001B[1;32m      9\u001B[0m \u001B[38;5;28;01mimport\u001B[39;00m \u001B[38;5;21;01mtkinter\u001B[39;00m\u001B[38;5;21;01m.\u001B[39;00m\u001B[38;5;21;01mfont\u001B[39;00m\n",
      "File \u001B[0;32m/usr/local/Cellar/python@3.10/3.10.6_2/Frameworks/Python.framework/Versions/3.10/lib/python3.10/tkinter/__init__.py:37\u001B[0m\n\u001B[1;32m     34\u001B[0m \u001B[38;5;28;01mimport\u001B[39;00m \u001B[38;5;21;01msys\u001B[39;00m\n\u001B[1;32m     35\u001B[0m \u001B[38;5;28;01mimport\u001B[39;00m \u001B[38;5;21;01mtypes\u001B[39;00m\n\u001B[0;32m---> 37\u001B[0m \u001B[38;5;28;01mimport\u001B[39;00m \u001B[38;5;21;01m_tkinter\u001B[39;00m \u001B[38;5;66;03m# If this fails your Python may not be configured for Tk\u001B[39;00m\n\u001B[1;32m     38\u001B[0m TclError \u001B[38;5;241m=\u001B[39m _tkinter\u001B[38;5;241m.\u001B[39mTclError\n\u001B[1;32m     39\u001B[0m \u001B[38;5;28;01mfrom\u001B[39;00m \u001B[38;5;21;01mtkinter\u001B[39;00m\u001B[38;5;21;01m.\u001B[39;00m\u001B[38;5;21;01mconstants\u001B[39;00m \u001B[38;5;28;01mimport\u001B[39;00m \u001B[38;5;241m*\u001B[39m\n",
      "\u001B[0;31mModuleNotFoundError\u001B[0m: No module named '_tkinter'"
     ]
    }
   ],
   "source": [
    "import base64\n",
    "from io import BytesIO\n",
    "import pathlib\n",
    "import pandas as pd\n",
    "\n",
    "from flask import Flask\n",
    "from matplotlib.figure import Figure\n",
    "\n",
    "import numpy as np\n",
    "from matplotlib.collections import LineCollection\n",
    "\n",
    "%matplotlib inline\n",
    "import matplotlib.pyplot as plt\n",
    "from matplotlib.colors import ListedColormap, BoundaryNorm"
   ]
  },
  {
   "cell_type": "code",
   "execution_count": 7,
   "outputs": [],
   "source": [
    "data = pd.read_csv(\"/Users/roeemazor/PycharmProjects/turbo-guacamole/data/skiing/HY_200114/run1/pod01_raw.csv\")\n"
   ],
   "metadata": {
    "collapsed": false,
    "pycharm": {
     "name": "#%%\n"
    }
   }
  },
  {
   "cell_type": "code",
   "execution_count": 5,
   "outputs": [
    {
     "data": {
      "text/plain": "Index(['time[ISO-UTC]', 'xPos[m]', 'yPos[m]', 'Latitude[deg]',\n       'Longitude[deg]', 'speed_2D[km/h]', 'speed_3D[km/h]', 'prs[Pa]',\n       'alt_baro[m]', 'alt_gps[m]', 'hr[bpm]'],\n      dtype='object')"
     },
     "execution_count": 5,
     "metadata": {},
     "output_type": "execute_result"
    }
   ],
   "source": [
    "a.keys()"
   ],
   "metadata": {
    "collapsed": false,
    "pycharm": {
     "name": "#%%\n"
    }
   }
  },
  {
   "cell_type": "code",
   "execution_count": 6,
   "outputs": [
    {
     "data": {
      "text/plain": "array([ 2.5 ,  1.55,  0.85,  1.15,  1.1 ,  0.15,  0.2 ,  1.8 ,  3.55,\n        2.9 ,  1.75,  1.65,  1.55,  2.05,  2.95,  2.7 ,  1.1 ,  0.35,\n        0.25,  1.45,  2.3 ,  1.75,  1.1 ,  0.3 ,  0.45,  1.2 ,  0.75,\n        0.4 ,  1.15,  1.25,  0.5 ,  0.6 ,  1.6 ,  1.3 ,  0.2 ,  0.25,\n        0.1 , -0.05,  0.4 ,  0.65, -0.15, -0.15,  0.2 ,  0.6 ,  0.4 ,\n        0.45,  0.95,  0.1 ,  0.  ,  0.55,  0.55,  0.9 ,  1.4 ,  1.05,\n        0.6 , -0.45, -0.65,  0.05, -0.05, -0.75, -1.5 ,  0.25,  1.35,\n        1.25,  1.35,  1.2 ,  0.85, -0.4 , -0.25,  0.75,  0.55,  0.3 ,\n        0.75,  0.2 , -0.55, -0.25,  0.1 ,  0.1 ,  0.1 ,  0.15,  0.65,\n        0.65,  0.4 ,  0.75,  0.9 ,  1.  ,  0.8 ,  0.05, -0.25,  0.4 ,\n        0.5 ,  0.15,  0.95,  0.05,  0.2 ,  0.75,  0.2 ,  1.3 ,  1.45,\n        0.2 ,  0.1 ,  0.3 ,  0.  ,  0.15, -0.05,  0.15, -0.45, -1.25,\n       -0.45,  0.4 ,  0.5 ,  0.9 ,  0.6 ,  0.35,  0.15,  0.4 ,  0.6 ,\n        0.25,  0.2 , -0.85, -0.6 ,  0.  , -0.65, -0.1 ,  0.55,  0.15,\n        0.2 ,  0.05, -0.45,  0.  ,  0.3 , -0.4 , -0.25,  0.  , -0.65,\n       -1.85, -2.45, -1.6 , -0.2 , -1.55, -1.8 , -0.55, -0.65,  0.2 ,\n        0.2 ,  0.3 ,  1.  ,  1.  ,  0.35,  0.4 ,  0.85,  0.3 , -0.05,\n        0.4 ,  0.3 ,  0.05,  0.15,  0.35,  0.3 ,  0.35,  0.  , -1.5 ,\n       -1.05,  1.65,  2.4 ,  0.55, -0.95, -1.45, -1.5 , -2.1 , -1.  ,\n       -0.35, -0.5 ,  0.1 , -0.75, -0.55,  0.9 ,  1.  ,  0.3 ,  0.4 ,\n        0.35, -0.6 , -1.5 , -1.5 , -1.15, -1.7 , -1.05,  0.95,  1.  ,\n        0.2 ,  0.5 ,  0.45, -0.35, -0.05,  0.95,  0.95,  0.25,  0.4 ,\n        0.1 , -0.7 , -0.7 , -0.55, -0.6 ,  0.5 ,  1.15,  0.6 ,  0.3 ,\n        0.65,  0.75,  0.65,  0.4 ,  0.1 ,  0.05, -0.8 , -1.5 , -1.7 ,\n       -0.7 ,  0.55, -0.1 , -0.05,  0.85,  0.2 , -1.2 , -0.7 ,  0.8 ,\n        0.05,  1.1 ,  2.  ,  0.55,  0.2 ,  0.45, -0.55, -2.  , -0.4 ,\n       -0.75, -0.95,  1.8 ,  1.75,  0.4 ,  0.45,  1.55,  1.45,  0.95,\n        0.7 ,  0.95,  1.4 , -0.45, -2.7 , -1.5 ,  1.5 ,  2.45,  2.35,\n        2.3 ,  0.85,  0.65,  0.4 ,  0.45,  1.  ,  0.85,  0.15, -0.8 ,\n       -0.9 , -0.75, -0.45, -0.45, -0.45, -0.3 , -0.3 , -0.3 ,  0.35,\n        0.25, -0.05, -0.75, -1.  , -0.75, -0.85, -1.1 , -1.45, -0.95,\n       -0.7 , -0.95,  0.5 ,  0.9 , -0.55, -1.5 , -2.85, -2.95, -1.45,\n       -1.65, -1.75, -1.25, -0.5 ,  0.05,  0.1 ,  0.35,  0.  , -0.15,\n        0.65,  1.4 ,  0.8 ,  1.  ,  0.95,  0.05, -0.3 ,  0.4 ,  0.15,\n       -0.6 ,  0.6 ,  0.75,  0.85,  1.5 ,  1.  ,  0.6 ,  0.6 ,  0.55,\n        0.4 ,  0.65,  0.  , -1.05, -0.6 , -0.1 ,  0.2 ,  0.65,  0.45,\n        0.15,  0.9 ,  0.4 ,  0.25,  1.05,  1.2 ,  1.9 ,  2.1 ,  1.75,\n        0.95,  0.4 ,  0.1 , -0.9 , -0.05,  1.3 ,  1.45,  1.3 ,  0.95,\n        1.7 ,  1.5 ,  0.9 ,  0.45,  0.5 ,  1.1 ,  0.85,  0.95,  0.6 ,\n        0.1 ,  0.3 , -0.35, -0.6 ,  0.2 ,  0.05, -0.65, -0.65, -0.7 ,\n       -0.4 , -1.05, -2.3 , -1.35, -0.4 , -1.1 , -1.85, -1.55, -1.3 ,\n       -1.5 , -1.15, -0.5 , -0.5 , -0.45, -0.1 ,  0.1 ,  0.05, -0.2 ,\n       -0.15, -0.3 , -0.25,  0.1 ,  0.1 ,  0.3 ,  0.  , -1.  , -1.25,\n        0.15,  0.55, -0.15, -0.05, -0.1 , -0.35,  0.2 ,  0.3 , -0.1 ,\n       -0.15, -0.35, -0.8 , -0.55, -0.3 , -0.45,  0.25, -0.4 , -0.65,\n        0.05,  0.35, -0.5 , -1.05, -0.25, -0.15,  0.35,  0.65,  0.7 ,\n        0.3 , -0.2 , -1.  , -0.85,  0.2 , -0.1 ,  0.6 ,  0.55, -0.1 ,\n        1.45,  1.5 ,  1.  ,  0.95,  0.1 ,  0.65,  0.95,  0.35, -0.3 ,\n       -0.05,  0.55,  0.2 ,  0.5 ,  0.8 ,  0.55,  1.  ,  0.9 ,  0.4 ,\n        0.15, -0.3 , -0.85, -0.75, -0.6 , -0.35, -0.4 , -0.85, -0.1 ,\n       -0.65, -1.2 , -0.55,  0.25,  0.75,  0.15, -0.35, -0.5 , -0.45,\n       -0.55, -0.15,  0.35,  0.05,  0.1 ,  0.3 ,  0.3 ,  0.25,  0.45,\n        0.4 ,  0.  ,  0.6 ,  0.95,  0.35, -0.15, -0.2 , -0.05,  0.5 ,\n        0.35, -0.2 ,  0.25,  0.45,  0.05,  0.2 , -0.05, -0.2 , -0.05,\n        0.2 ,  0.15, -0.35, -0.25, -0.35, -0.55, -0.3 ,  0.25,  0.1 ,\n       -0.35, -0.35, -0.3 , -0.5 , -0.45, -0.65, -0.35, -0.25, -0.45,\n        0.4 ,  0.05, -0.6 , -1.  , -0.55, -0.4 , -0.9 , -0.5 , -0.1 ,\n        0.85,  0.95,  0.6 ,  0.6 , -0.1 , -1.1 , -0.95,  0.3 , -0.05,\n       -0.35,  0.25, -0.25, -0.65, -0.05,  0.65,  0.35,  0.55,  0.95,\n        0.4 ,  0.2 , -0.35, -0.2 ,  0.05, -0.15,  0.45,  0.5 ,  0.9 ,\n        0.75, -0.05,  1.  ,  1.  ,  0.6 ,  1.  , -0.2 , -1.15, -0.55,\n        0.  , -0.05,  0.  ,  0.7 ,  0.7 ,  0.15,  0.3 , -0.3 , -0.2 ,\n        0.25,  0.25,  0.35,  0.2 , -0.55, -0.25,  0.45,  0.05,  0.1 ,\n       -0.25,  0.55,  0.35, -0.85, -0.3 ,  0.05,  0.25,  0.  ,  0.15,\n       -0.7 , -0.65,  0.35,  0.3 ,  0.6 ,  0.75,  0.3 ,  0.35,  0.3 ,\n        0.05,  0.15, -0.9 , -0.85,  0.6 ,  0.8 ,  0.3 , -0.1 , -0.15,\n        0.15,  0.15,  0.65,  1.85,  0.95, -0.2 , -0.2 , -0.75, -0.15,\n        0.3 ,  0.3 ,  0.35,  0.3 ,  0.7 ,  0.55,  0.55,  0.8 ,  0.9 ,\n        0.2 , -0.7 , -0.85, -0.9 , -0.35, -0.25, -0.65, -0.5 , -1.1 ,\n       -2.05, -3.15, -1.9 , -0.15, -0.95, -1.25, -1.25, -2.3 , -3.2 ,\n       -3.3 , -3.  , -2.7 , -2.15, -1.85, -2.35, -2.4 , -2.6 ])"
     },
     "execution_count": 6,
     "metadata": {},
     "output_type": "execute_result"
    }
   ],
   "source": [
    "np.gradient(a['speed_3D[km/h]'])"
   ],
   "metadata": {
    "collapsed": false,
    "pycharm": {
     "name": "#%%\n"
    }
   }
  },
  {
   "cell_type": "code",
   "execution_count": 106,
   "outputs": [
    {
     "name": "stderr",
     "output_type": "stream",
     "text": [
      "/var/folders/m2/g230ylz95832f9sr1nz5rn680000gp/T/ipykernel_16023/3258722939.py:58: UserWarning: Matplotlib is currently using module://matplotlib_inline.backend_inline, which is a non-GUI backend, so cannot show the figure.\n",
      "  fig.show()\n"
     ]
    },
    {
     "data": {
      "text/plain": "<Figure size 640x480 with 3 Axes>",
      "image/png": "[encoded data removed]"
     },
     "metadata": {},
     "output_type": "display_data"
    }
   ],
   "source": [
    "speed_array_len = data['speed_3D[km/h]'].count()\n",
    "t = np.arange(0, 0 + (0.1 * speed_array_len) , 0.1)\n",
    "x = data['xPos[m]'] if 'xPos[m]' in data else data['Latitude[deg]']\n",
    "y = data['yPos[m]'] if 'yPos[m]' in data else data['Longitude[deg]']\n",
    "\n",
    "speed = data['speed_3D[km/h]']\n",
    "\n",
    "x = x[200:300]\n",
    "y = y[200:300]\n",
    "speed = speed[200:300]\n",
    "t = t[200:300]\n",
    "acc = np.gradient(speed) * 10 # 10 hz sampling\n",
    "#speed = ((speed - min(speed))/5)\n",
    "speed = np.log10(speed/max(speed)) * 20\n",
    "\n",
    "points = np.array([x, y]).T.reshape(-1, 1, 2)\n",
    "segments = np.concatenate([points[:-1], points[1:]], axis=1)\n",
    "\n",
    "#speed = np.full((637,), 10)\n",
    "\n",
    "#fig = Figure()\n",
    "fig = plt.figure()\n",
    "axs = fig.subplots(2, 1, sharex=True, sharey=True)\n",
    "\n",
    "# Create a continuous norm to map from data points to colors\n",
    "norm = plt.Normalize(acc.min(), acc.max())\n",
    "lc = LineCollection(segments, cmap='viridis', norm=norm, linewidths=speed)\n",
    "# Set the values used for colormapping\n",
    "lc.set_array(acc)\n",
    "#lc.set_linewidth(2) # dynamic width\n",
    "line = axs[0].add_collection(lc)\n",
    "fig.colorbar(line, ax=axs[0])\n",
    "\n",
    "'''\n",
    "# Use a boundary norm instead\n",
    "cmap = ListedColormap(['r', 'g', 'b'])\n",
    "norm = BoundaryNorm([-1, -0.5, 0.5, 1], cmap.N)\n",
    "lc = LineCollection(segments, cmap=cmap, norm=norm)\n",
    "lc.set_array(dydx)\n",
    "lc.set_linewidth(2)\n",
    "line = axs[1].add_collection(lc)\n",
    "fig.colorbar(line, ax=axs[1])\n",
    "'''\n",
    "\n",
    "axs[0].set_xlim(x.min(), x.max())\n",
    "axs[0].set_ylim(y.min(), y.max())\n",
    "\n",
    "'''\n",
    "# Save it to a temporary buffer.\n",
    "buf = BytesIO()\n",
    "fig.savefig(buf, format=\"png\")\n",
    "# Embed the result in the html output.\n",
    "data = base64.b64encode(buf.getbuffer()).decode(\"ascii\")\n",
    "return f\"<img src='data:image/png;base64,{data}'/>\"\n",
    "'''\n",
    "\n",
    "fig.savefig(\"a.png\", format=\"png\")\n",
    "fig.show()"
   ],
   "metadata": {
    "collapsed": false,
    "pycharm": {
     "name": "#%%\n"
    }
   }
  },
  {
   "cell_type": "code",
   "execution_count": 67,
   "outputs": [
    {
     "data": {
      "text/plain": "(638,)"
     },
     "execution_count": 67,
     "metadata": {},
     "output_type": "execute_result"
    }
   ],
   "source": [
    "speed.shape"
   ],
   "metadata": {
    "collapsed": false,
    "pycharm": {
     "name": "#%%\n"
    }
   }
  },
  {
   "cell_type": "markdown",
   "source": [],
   "metadata": {
    "collapsed": false,
    "pycharm": {
     "name": "#%% md\n"
    }
   }
  },
  {
   "cell_type": "code",
   "execution_count": 15,
   "outputs": [
    {
     "data": {
      "text/plain": "0     -610.400018\n1     -610.199871\n2     -610.021935\n3     -609.799527\n4     -609.566009\n          ...    \n633    357.638789\n634    359.028758\n635    360.296410\n636    361.497347\n637    362.598198\nName: yPos[m], Length: 638, dtype: float64"
     },
     "execution_count": 15,
     "metadata": {},
     "output_type": "execute_result"
    }
   ],
   "source": [
    "y"
   ],
   "metadata": {
    "collapsed": false,
    "pycharm": {
     "name": "#%%\n"
    }
   }
  },
  {
   "cell_type": "code",
   "execution_count": 16,
   "outputs": [
    {
     "data": {
      "text/plain": "array([[[ 324.231214, -610.400018],\n        [ 324.094269, -610.199871]],\n\n       [[ 324.094269, -610.199871],\n        [ 324.018172, -610.021935]],\n\n       [[ 324.018172, -610.021935],\n        [ 323.919255, -609.799527]],\n\n       ...,\n\n       [[-180.125296,  359.028758],\n        [-180.459926,  360.29641 ]],\n\n       [[-180.459926,  360.29641 ],\n        [-180.764134,  361.497347]],\n\n       [[-180.764134,  361.497347],\n        [-181.083554,  362.598198]]])"
     },
     "execution_count": 16,
     "metadata": {},
     "output_type": "execute_result"
    }
   ],
   "source": [
    "segments"
   ],
   "metadata": {
    "collapsed": false,
    "pycharm": {
     "name": "#%%\n"
    }
   }
  },
  {
   "cell_type": "code",
   "execution_count": 35,
   "outputs": [
    {
     "data": {
      "text/plain": "0       3.5\n1       6.0\n2       6.6\n3       7.7\n4       8.9\n       ... \n633    53.2\n634    52.0\n635    49.5\n636    47.3\n637    44.7\nName: speed_3D[km/h], Length: 638, dtype: float64"
     },
     "execution_count": 35,
     "metadata": {},
     "output_type": "execute_result"
    }
   ],
   "source": [
    "speed"
   ],
   "metadata": {
    "collapsed": false,
    "pycharm": {
     "name": "#%%\n"
    }
   }
  },
  {
   "cell_type": "code",
   "execution_count": 44,
   "outputs": [
    {
     "data": {
      "text/plain": "90.9"
     },
     "execution_count": 44,
     "metadata": {},
     "output_type": "execute_result"
    }
   ],
   "source": [
    "max(speed)\n"
   ],
   "metadata": {
    "collapsed": false,
    "pycharm": {
     "name": "#%%\n"
    }
   }
  },
  {
   "cell_type": "code",
   "execution_count": 54,
   "outputs": [
    {
     "data": {
      "text/plain": "array([[[ 324.231214, -610.400018],\n        [ 324.094269, -610.199871]],\n\n       [[ 324.094269, -610.199871],\n        [ 324.018172, -610.021935]],\n\n       [[ 324.018172, -610.021935],\n        [ 323.919255, -609.799527]],\n\n       ...,\n\n       [[-180.125296,  359.028758],\n        [-180.459926,  360.29641 ]],\n\n       [[-180.459926,  360.29641 ],\n        [-180.764134,  361.497347]],\n\n       [[-180.764134,  361.497347],\n        [-181.083554,  362.598198]]])"
     },
     "execution_count": 54,
     "metadata": {},
     "output_type": "execute_result"
    }
   ],
   "source": [
    "segments"
   ],
   "metadata": {
    "collapsed": false,
    "pycharm": {
     "name": "#%%\n"
    }
   }
  },
  {
   "cell_type": "code",
   "execution_count": 76,
   "outputs": [
    {
     "data": {
      "text/plain": "0     -610.400018\n1     -610.199871\n2     -610.021935\n3     -609.799527\n4     -609.566009\n          ...    \n633    357.638789\n634    359.028758\n635    360.296410\n636    361.497347\n637    362.598198\nName: yPos[m], Length: 638, dtype: float64"
     },
     "execution_count": 76,
     "metadata": {},
     "output_type": "execute_result"
    }
   ],
   "source": [
    "from scipy.interpolate import splev, splrep\n",
    "y"
   ],
   "metadata": {
    "collapsed": false,
    "pycharm": {
     "name": "#%%\n"
    }
   }
  },
  {
   "cell_type": "code",
   "execution_count": 73,
   "outputs": [
    {
     "ename": "ValueError",
     "evalue": "Error on input data",
     "output_type": "error",
     "traceback": [
      "\u001B[0;31m---------------------------------------------------------------------------\u001B[0m",
      "\u001B[0;31mValueError\u001B[0m                                Traceback (most recent call last)",
      "Cell \u001B[0;32mIn [73], line 1\u001B[0m\n\u001B[0;32m----> 1\u001B[0m spl \u001B[38;5;241m=\u001B[39m \u001B[43msplrep\u001B[49m\u001B[43m(\u001B[49m\u001B[43mx\u001B[49m\u001B[43m,\u001B[49m\u001B[43m \u001B[49m\u001B[43my\u001B[49m\u001B[43m)\u001B[49m\n\u001B[1;32m      2\u001B[0m x2 \u001B[38;5;241m=\u001B[39m np\u001B[38;5;241m.\u001B[39mlinspace(\u001B[38;5;241m0\u001B[39m, \u001B[38;5;241m4\u001B[39m\u001B[38;5;241m*\u001B[39mnp\u001B[38;5;241m.\u001B[39mpi, \u001B[38;5;241m3000\u001B[39m)\n\u001B[1;32m      3\u001B[0m y2 \u001B[38;5;241m=\u001B[39m splev(x2, spl)\n",
      "File \u001B[0;32m~/PycharmProjects/turbo-guacamole/venv/lib/python3.10/site-packages/scipy/interpolate/_fitpack_py.py:291\u001B[0m, in \u001B[0;36msplrep\u001B[0;34m(x, y, w, xb, xe, k, task, s, t, full_output, per, quiet)\u001B[0m\n\u001B[1;32m    160\u001B[0m \u001B[38;5;28;01mdef\u001B[39;00m \u001B[38;5;21msplrep\u001B[39m(x, y, w\u001B[38;5;241m=\u001B[39m\u001B[38;5;28;01mNone\u001B[39;00m, xb\u001B[38;5;241m=\u001B[39m\u001B[38;5;28;01mNone\u001B[39;00m, xe\u001B[38;5;241m=\u001B[39m\u001B[38;5;28;01mNone\u001B[39;00m, k\u001B[38;5;241m=\u001B[39m\u001B[38;5;241m3\u001B[39m, task\u001B[38;5;241m=\u001B[39m\u001B[38;5;241m0\u001B[39m, s\u001B[38;5;241m=\u001B[39m\u001B[38;5;28;01mNone\u001B[39;00m, t\u001B[38;5;241m=\u001B[39m\u001B[38;5;28;01mNone\u001B[39;00m,\n\u001B[1;32m    161\u001B[0m            full_output\u001B[38;5;241m=\u001B[39m\u001B[38;5;241m0\u001B[39m, per\u001B[38;5;241m=\u001B[39m\u001B[38;5;241m0\u001B[39m, quiet\u001B[38;5;241m=\u001B[39m\u001B[38;5;241m1\u001B[39m):\n\u001B[1;32m    162\u001B[0m     \u001B[38;5;124;03m\"\"\"\u001B[39;00m\n\u001B[1;32m    163\u001B[0m \u001B[38;5;124;03m    Find the B-spline representation of a 1-D curve.\u001B[39;00m\n\u001B[1;32m    164\u001B[0m \n\u001B[0;32m   (...)\u001B[0m\n\u001B[1;32m    289\u001B[0m \n\u001B[1;32m    290\u001B[0m \u001B[38;5;124;03m    \"\"\"\u001B[39;00m\n\u001B[0;32m--> 291\u001B[0m     res \u001B[38;5;241m=\u001B[39m \u001B[43m_impl\u001B[49m\u001B[38;5;241;43m.\u001B[39;49m\u001B[43msplrep\u001B[49m\u001B[43m(\u001B[49m\u001B[43mx\u001B[49m\u001B[43m,\u001B[49m\u001B[43m \u001B[49m\u001B[43my\u001B[49m\u001B[43m,\u001B[49m\u001B[43m \u001B[49m\u001B[43mw\u001B[49m\u001B[43m,\u001B[49m\u001B[43m \u001B[49m\u001B[43mxb\u001B[49m\u001B[43m,\u001B[49m\u001B[43m \u001B[49m\u001B[43mxe\u001B[49m\u001B[43m,\u001B[49m\u001B[43m \u001B[49m\u001B[43mk\u001B[49m\u001B[43m,\u001B[49m\u001B[43m \u001B[49m\u001B[43mtask\u001B[49m\u001B[43m,\u001B[49m\u001B[43m \u001B[49m\u001B[43ms\u001B[49m\u001B[43m,\u001B[49m\u001B[43m \u001B[49m\u001B[43mt\u001B[49m\u001B[43m,\u001B[49m\u001B[43m \u001B[49m\u001B[43mfull_output\u001B[49m\u001B[43m,\u001B[49m\u001B[43m \u001B[49m\u001B[43mper\u001B[49m\u001B[43m,\u001B[49m\u001B[43m \u001B[49m\u001B[43mquiet\u001B[49m\u001B[43m)\u001B[49m\n\u001B[1;32m    292\u001B[0m     \u001B[38;5;28;01mreturn\u001B[39;00m res\n",
      "File \u001B[0;32m~/PycharmProjects/turbo-guacamole/venv/lib/python3.10/site-packages/scipy/interpolate/_fitpack_impl.py:512\u001B[0m, in \u001B[0;36msplrep\u001B[0;34m(x, y, w, xb, xe, k, task, s, t, full_output, per, quiet)\u001B[0m\n\u001B[1;32m    510\u001B[0m \u001B[38;5;28;01melse\u001B[39;00m:\n\u001B[1;32m    511\u001B[0m     \u001B[38;5;28;01mtry\u001B[39;00m:\n\u001B[0;32m--> 512\u001B[0m         \u001B[38;5;28;01mraise\u001B[39;00m _iermess[ier][\u001B[38;5;241m1\u001B[39m](_iermess[ier][\u001B[38;5;241m0\u001B[39m])\n\u001B[1;32m    513\u001B[0m     \u001B[38;5;28;01mexcept\u001B[39;00m \u001B[38;5;167;01mKeyError\u001B[39;00m \u001B[38;5;28;01mas\u001B[39;00m e:\n\u001B[1;32m    514\u001B[0m         \u001B[38;5;28;01mraise\u001B[39;00m _iermess[\u001B[38;5;124m'\u001B[39m\u001B[38;5;124munknown\u001B[39m\u001B[38;5;124m'\u001B[39m][\u001B[38;5;241m1\u001B[39m](_iermess[\u001B[38;5;124m'\u001B[39m\u001B[38;5;124munknown\u001B[39m\u001B[38;5;124m'\u001B[39m][\u001B[38;5;241m0\u001B[39m]) \u001B[38;5;28;01mfrom\u001B[39;00m \u001B[38;5;21;01me\u001B[39;00m\n",
      "\u001B[0;31mValueError\u001B[0m: Error on input data"
     ]
    }
   ],
   "source": [
    "spl = splrep(x, y)\n",
    "x2 = np.linspace(0, 4*np.pi, 3000)\n",
    "y2 = splev(x2, spl)\n",
    "\n",
    "fig,a = plt.subplots(1, 2, figsize=(20,8))\n",
    "for i, xy in enumerate([(x, y), (x2, y2)]):\n",
    "    x3, y3 = xy\n",
    "    lwidths=1+x3[:-1]\n",
    "    points = np.array([x3, y3]).T.reshape(-1, 1, 2)\n",
    "    segments = np.concatenate([points[:-1], points[1:]], axis=1)\n",
    "    lc = LineCollection(segments, linewidths=lwidths,color='blue')\n",
    "    a[i].add_collection(lc)\n",
    "    a[i].set_xlim(0,4*np.pi)\n",
    "    a[i].set_ylim(-1.1,1.1)"
   ],
   "metadata": {
    "collapsed": false,
    "pycharm": {
     "name": "#%%\n"
    }
   }
  },
  {
   "cell_type": "code",
   "execution_count": 77,
   "outputs": [
    {
     "ename": "ValueError",
     "evalue": "Error on input data",
     "output_type": "error",
     "traceback": [
      "\u001B[0;31m---------------------------------------------------------------------------\u001B[0m",
      "\u001B[0;31mValueError\u001B[0m                                Traceback (most recent call last)",
      "Cell \u001B[0;32mIn [77], line 1\u001B[0m\n\u001B[0;32m----> 1\u001B[0m \u001B[43msplrep\u001B[49m\u001B[43m(\u001B[49m\u001B[43mx\u001B[49m\u001B[43m,\u001B[49m\u001B[43m \u001B[49m\u001B[43my\u001B[49m\u001B[43m)\u001B[49m\n",
      "File \u001B[0;32m~/PycharmProjects/turbo-guacamole/venv/lib/python3.10/site-packages/scipy/interpolate/_fitpack_py.py:291\u001B[0m, in \u001B[0;36msplrep\u001B[0;34m(x, y, w, xb, xe, k, task, s, t, full_output, per, quiet)\u001B[0m\n\u001B[1;32m    160\u001B[0m \u001B[38;5;28;01mdef\u001B[39;00m \u001B[38;5;21msplrep\u001B[39m(x, y, w\u001B[38;5;241m=\u001B[39m\u001B[38;5;28;01mNone\u001B[39;00m, xb\u001B[38;5;241m=\u001B[39m\u001B[38;5;28;01mNone\u001B[39;00m, xe\u001B[38;5;241m=\u001B[39m\u001B[38;5;28;01mNone\u001B[39;00m, k\u001B[38;5;241m=\u001B[39m\u001B[38;5;241m3\u001B[39m, task\u001B[38;5;241m=\u001B[39m\u001B[38;5;241m0\u001B[39m, s\u001B[38;5;241m=\u001B[39m\u001B[38;5;28;01mNone\u001B[39;00m, t\u001B[38;5;241m=\u001B[39m\u001B[38;5;28;01mNone\u001B[39;00m,\n\u001B[1;32m    161\u001B[0m            full_output\u001B[38;5;241m=\u001B[39m\u001B[38;5;241m0\u001B[39m, per\u001B[38;5;241m=\u001B[39m\u001B[38;5;241m0\u001B[39m, quiet\u001B[38;5;241m=\u001B[39m\u001B[38;5;241m1\u001B[39m):\n\u001B[1;32m    162\u001B[0m     \u001B[38;5;124;03m\"\"\"\u001B[39;00m\n\u001B[1;32m    163\u001B[0m \u001B[38;5;124;03m    Find the B-spline representation of a 1-D curve.\u001B[39;00m\n\u001B[1;32m    164\u001B[0m \n\u001B[0;32m   (...)\u001B[0m\n\u001B[1;32m    289\u001B[0m \n\u001B[1;32m    290\u001B[0m \u001B[38;5;124;03m    \"\"\"\u001B[39;00m\n\u001B[0;32m--> 291\u001B[0m     res \u001B[38;5;241m=\u001B[39m \u001B[43m_impl\u001B[49m\u001B[38;5;241;43m.\u001B[39;49m\u001B[43msplrep\u001B[49m\u001B[43m(\u001B[49m\u001B[43mx\u001B[49m\u001B[43m,\u001B[49m\u001B[43m \u001B[49m\u001B[43my\u001B[49m\u001B[43m,\u001B[49m\u001B[43m \u001B[49m\u001B[43mw\u001B[49m\u001B[43m,\u001B[49m\u001B[43m \u001B[49m\u001B[43mxb\u001B[49m\u001B[43m,\u001B[49m\u001B[43m \u001B[49m\u001B[43mxe\u001B[49m\u001B[43m,\u001B[49m\u001B[43m \u001B[49m\u001B[43mk\u001B[49m\u001B[43m,\u001B[49m\u001B[43m \u001B[49m\u001B[43mtask\u001B[49m\u001B[43m,\u001B[49m\u001B[43m \u001B[49m\u001B[43ms\u001B[49m\u001B[43m,\u001B[49m\u001B[43m \u001B[49m\u001B[43mt\u001B[49m\u001B[43m,\u001B[49m\u001B[43m \u001B[49m\u001B[43mfull_output\u001B[49m\u001B[43m,\u001B[49m\u001B[43m \u001B[49m\u001B[43mper\u001B[49m\u001B[43m,\u001B[49m\u001B[43m \u001B[49m\u001B[43mquiet\u001B[49m\u001B[43m)\u001B[49m\n\u001B[1;32m    292\u001B[0m     \u001B[38;5;28;01mreturn\u001B[39;00m res\n",
      "File \u001B[0;32m~/PycharmProjects/turbo-guacamole/venv/lib/python3.10/site-packages/scipy/interpolate/_fitpack_impl.py:512\u001B[0m, in \u001B[0;36msplrep\u001B[0;34m(x, y, w, xb, xe, k, task, s, t, full_output, per, quiet)\u001B[0m\n\u001B[1;32m    510\u001B[0m \u001B[38;5;28;01melse\u001B[39;00m:\n\u001B[1;32m    511\u001B[0m     \u001B[38;5;28;01mtry\u001B[39;00m:\n\u001B[0;32m--> 512\u001B[0m         \u001B[38;5;28;01mraise\u001B[39;00m _iermess[ier][\u001B[38;5;241m1\u001B[39m](_iermess[ier][\u001B[38;5;241m0\u001B[39m])\n\u001B[1;32m    513\u001B[0m     \u001B[38;5;28;01mexcept\u001B[39;00m \u001B[38;5;167;01mKeyError\u001B[39;00m \u001B[38;5;28;01mas\u001B[39;00m e:\n\u001B[1;32m    514\u001B[0m         \u001B[38;5;28;01mraise\u001B[39;00m _iermess[\u001B[38;5;124m'\u001B[39m\u001B[38;5;124munknown\u001B[39m\u001B[38;5;124m'\u001B[39m][\u001B[38;5;241m1\u001B[39m](_iermess[\u001B[38;5;124m'\u001B[39m\u001B[38;5;124munknown\u001B[39m\u001B[38;5;124m'\u001B[39m][\u001B[38;5;241m0\u001B[39m]) \u001B[38;5;28;01mfrom\u001B[39;00m \u001B[38;5;21;01me\u001B[39;00m\n",
      "\u001B[0;31mValueError\u001B[0m: Error on input data"
     ]
    }
   ],
   "source": [
    "splrep(x, y)"
   ],
   "metadata": {
    "collapsed": false,
    "pycharm": {
     "name": "#%%\n"
    }
   }
  },
  {
   "cell_type": "code",
   "execution_count": null,
   "outputs": [],
   "source": [],
   "metadata": {
    "collapsed": false,
    "pycharm": {
     "name": "#%%\n"
    }
   }
  }
 ],
 "metadata": {
  "kernelspec": {
   "display_name": "Python 3",
   "language": "python",
   "name": "python3"
  },
  "language_info": {
   "codemirror_mode": {
    "name": "ipython",
    "version": 2
   },
   "file_extension": ".py",
   "mimetype": "text/x-python",
   "name": "python",
   "nbconvert_exporter": "python",
   "pygments_lexer": "ipython2",
   "version": "2.7.6"
  }
 },
 "nbformat": 4,
 "nbformat_minor": 0
}